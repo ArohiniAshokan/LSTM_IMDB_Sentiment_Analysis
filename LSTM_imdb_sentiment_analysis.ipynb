{
  "nbformat": 4,
  "nbformat_minor": 0,
  "metadata": {
    "colab": {
      "provenance": [],
      "authorship_tag": "ABX9TyPadyPROVr/JYcyESrgo6jn",
      "include_colab_link": true
    },
    "kernelspec": {
      "name": "python3",
      "display_name": "Python 3"
    },
    "language_info": {
      "name": "python"
    }
  },
  "cells": [
    {
      "cell_type": "markdown",
      "metadata": {
        "id": "view-in-github",
        "colab_type": "text"
      },
      "source": [
        "<a href=\"https://colab.research.google.com/github/ArohiniAshokan/LSTM_IMDB_Sentiment_Analysis/blob/main/LSTM_imdb_sentiment_analysis.ipynb\" target=\"_parent\"><img src=\"https://colab.research.google.com/assets/colab-badge.svg\" alt=\"Open In Colab\"/></a>"
      ]
    },
    {
      "cell_type": "code",
      "execution_count": null,
      "metadata": {
        "id": "D0GYCjgxeUDb"
      },
      "outputs": [],
      "source": [
        "import tensorflow as tf\n",
        "from tensorflow import keras\n",
        "from keras.datasets import imdb"
      ]
    },
    {
      "cell_type": "code",
      "source": [
        "(x_train,y_train),(x_test,y_test)=imdb.load_data(num_words=1000)"
      ],
      "metadata": {
        "id": "Q0qj4_4BgE2U"
      },
      "execution_count": null,
      "outputs": []
    },
    {
      "cell_type": "code",
      "source": [
        "print(x_train.shape)\n",
        "print(y_train.shape)\n",
        "print(x_test.shape)\n",
        "print(y_test.shape)"
      ],
      "metadata": {
        "colab": {
          "base_uri": "https://localhost:8080/"
        },
        "id": "OaRZEx4qgUtB",
        "outputId": "ad4b9b8c-4883-4eff-d8d7-75a7cec2b312"
      },
      "execution_count": null,
      "outputs": [
        {
          "output_type": "stream",
          "name": "stdout",
          "text": [
            "(25000,)\n",
            "(25000,)\n",
            "(25000,)\n",
            "(25000,)\n"
          ]
        }
      ]
    },
    {
      "cell_type": "code",
      "source": [
        "# padding\n",
        "from keras.preprocessing.sequence import pad_sequences\n",
        "x_train=pad_sequences(x_train,maxlen=500)\n",
        "x_test=pad_sequences(x_test,maxlen=500)"
      ],
      "metadata": {
        "id": "YtX15B-rgWQW"
      },
      "execution_count": null,
      "outputs": []
    },
    {
      "cell_type": "code",
      "source": [
        "from keras.models import Sequential\n",
        "from keras.layers import *\n",
        "\n",
        "model = Sequential()\n",
        "model.add(Embedding(input_dim=1000, output_dim=32, input_length=500))\n",
        "model.add(LSTM(units=100, return_sequences=True))\n",
        "model.add(LSTM(units=50, return_sequences=True))\n",
        "model.add(LSTM(units=25))\n",
        "model.add(Dense(1, activation='sigmoid'))"
      ],
      "metadata": {
        "id": "hdX4cPfhhGiJ"
      },
      "execution_count": null,
      "outputs": []
    },
    {
      "cell_type": "code",
      "source": [
        "model.compile(optimizer='rmsprop',loss='binary_crossentropy',metrics=['accuracy'])\n",
        "model.fit(x_train,y_train,epochs=10)"
      ],
      "metadata": {
        "colab": {
          "base_uri": "https://localhost:8080/"
        },
        "id": "ttOTP1JAhUmD",
        "outputId": "a14418ab-e144-43ab-ad96-f52ac0bac64d"
      },
      "execution_count": null,
      "outputs": [
        {
          "output_type": "stream",
          "name": "stdout",
          "text": [
            "Epoch 1/10\n",
            "782/782 [==============================] - 714s 905ms/step - loss: 0.5268 - accuracy: 0.7266\n",
            "Epoch 2/10\n",
            "782/782 [==============================] - 699s 894ms/step - loss: 0.3908 - accuracy: 0.8380\n",
            "Epoch 3/10\n",
            "782/782 [==============================] - 699s 894ms/step - loss: 0.3619 - accuracy: 0.8484\n",
            "Epoch 4/10\n",
            "782/782 [==============================] - 694s 888ms/step - loss: 0.3451 - accuracy: 0.8576\n",
            "Epoch 5/10\n",
            "782/782 [==============================] - 696s 890ms/step - loss: 0.3317 - accuracy: 0.8651\n",
            "Epoch 6/10\n",
            "782/782 [==============================] - 686s 878ms/step - loss: 0.3183 - accuracy: 0.8700\n",
            "Epoch 7/10\n",
            "782/782 [==============================] - 700s 895ms/step - loss: 0.3065 - accuracy: 0.8778\n",
            "Epoch 8/10\n",
            "782/782 [==============================] - 713s 911ms/step - loss: 0.3031 - accuracy: 0.8768\n",
            "Epoch 9/10\n",
            "782/782 [==============================] - 708s 905ms/step - loss: 0.2931 - accuracy: 0.8826\n",
            "Epoch 10/10\n",
            "782/782 [==============================] - 697s 891ms/step - loss: 0.2862 - accuracy: 0.8885\n"
          ]
        },
        {
          "output_type": "execute_result",
          "data": {
            "text/plain": [
              "<keras.src.callbacks.History at 0x7a0318f81f00>"
            ]
          },
          "metadata": {},
          "execution_count": 15
        }
      ]
    },
    {
      "cell_type": "code",
      "source": [
        "loss,accuracy=model.evaluate(x_test,y_test)\n",
        "print('loss: ',loss)\n",
        "print('accuracy: ',accuracy)"
      ],
      "metadata": {
        "colab": {
          "base_uri": "https://localhost:8080/"
        },
        "id": "gffqQqdBhea_",
        "outputId": "98ddb4e1-4f6f-4bfd-e14f-31266dba6f49"
      },
      "execution_count": null,
      "outputs": [
        {
          "output_type": "stream",
          "name": "stdout",
          "text": [
            "782/782 [==============================] - 189s 239ms/step - loss: 0.3196 - accuracy: 0.8718\n",
            "loss:  0.31958431005477905\n",
            "accuracy:  0.8717600107192993\n"
          ]
        }
      ]
    },
    {
      "cell_type": "code",
      "source": [
        "y_pred = model.predict(x_test)\n",
        "print(y_pred[1])"
      ],
      "metadata": {
        "colab": {
          "base_uri": "https://localhost:8080/"
        },
        "id": "34bOuFN4hhdy",
        "outputId": "3581d237-ce06-42f1-a8c8-7c491de38fc6"
      },
      "execution_count": null,
      "outputs": [
        {
          "output_type": "stream",
          "name": "stdout",
          "text": [
            "782/782 [==============================] - 177s 224ms/step\n",
            "[0.9684727]\n"
          ]
        }
      ]
    },
    {
      "cell_type": "code",
      "source": [
        "y_test[1]"
      ],
      "metadata": {
        "colab": {
          "base_uri": "https://localhost:8080/"
        },
        "id": "xQ1nD5PWhj6C",
        "outputId": "2bb40ce5-af70-43bf-a266-4c9f67a18fa0"
      },
      "execution_count": null,
      "outputs": [
        {
          "output_type": "execute_result",
          "data": {
            "text/plain": [
              "1"
            ]
          },
          "metadata": {},
          "execution_count": 18
        }
      ]
    }
  ]
}